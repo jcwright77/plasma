{
 "cells": [
  {
   "cell_type": "markdown",
   "id": "564f6d40",
   "metadata": {},
   "source": [
    "# Notebook for tutorial of `TORIC` setup   \n",
    "This notebook walks you through setup from source eqdsk files , to configuring `TORIC` input files, launching a run and analyzing the results.\n",
    "\n",
    "This notebook assumes it is running on the engaging MIT cluster.\n",
    "\n",
    "In the next cell, you specify variables to configure your run. "
   ]
  },
  {
   "cell_type": "code",
   "execution_count": 3,
   "id": "366e38fc",
   "metadata": {},
   "outputs": [
    {
     "name": "stdout",
     "output_type": "stream",
     "text": [
      "/home/jcwright/SPARC/TSC-V2h01\r\n"
     ]
    }
   ],
   "source": [
    "!pwd"
   ]
  },
  {
   "cell_type": "code",
   "execution_count": 5,
   "id": "38633e48",
   "metadata": {},
   "outputs": [],
   "source": [
    "workdir='./run6_test'\n",
    "eqdsk_file='TRANSPrun.geq'\n",
    "\n",
    "profile_file='TRANSPrun.pkl' #or 'select'  or \"Name.equidt\" or \"Name.txt\"\n",
    "#If file ends in pkl assume it is a pkl file with profile info from a prior Transp run that has fields\n",
    "# rho_tor, rho_pol, te, ne, ti,ni\n",
    "\n",
    "#If file ends in equidt assume it is already a prepared TORIC input file of profile info containing species\n",
    "#information as well.\n",
    "\n",
    "#If end is txt assume columnated data of r/a te ne ti in some order (note ni is set by concentration and quasineutrality)\n",
    "\n",
    "#If any other , ignore and provide selection for profiles.\n",
    "\n",
    "\n",
    "nspec = 3 \n",
    "iatm = [2,3,3]\n",
    "iazi = [1,1,2]\n",
    "\n",
    "kdiff_itemp=1\n",
    "kdiff_idens=1\n",
    "\n",
    "kpar_ant = 11.5  #note toric reports kpar_axis, we use kpar_antenna here to set nphi in the input deck\n",
    "toric_mesh = [400, 128] # Psi, theta resolution. Theta must be power of 2.\n",
    "min_conc = 3 #percent #assume third or specify min species index"
   ]
  },
  {
   "cell_type": "markdown",
   "id": "30f89124",
   "metadata": {},
   "source": [
    "## Requirements"
   ]
  },
  {
   "cell_type": "markdown",
   "id": "249a3b3f",
   "metadata": {},
   "source": [
    "Load required python modules:\n",
    "- matplotlib: for plotting\n",
    "- numpy: for array math\n",
    "- plasma, periodictable.elements, f90nml and fortranformat: plotting eqdsk files, preparing toric inputs and plotting outputs\n",
    "- subprocess for running utility to prepare toric input\n",
    "You can source /home/jcwright/bin/m_jupyter_toric to load most of these."
   ]
  },
  {
   "cell_type": "code",
   "execution_count": 3,
   "id": "8937cc93",
   "metadata": {
    "code_folding": []
   },
   "outputs": [
    {
     "name": "stdout",
     "output_type": "stream",
     "text": [
      "fatal: destination path 'plasma' already exists and is not an empty directory.\n",
      "Requirement already satisfied: fortranformat in /nfs/software001/home/software/psfc/local/lib/py36 (1.2.2)\n",
      "Requirement already satisfied: f90nml in /nfs/software001/home/software/psfc/local/lib/py36 (1.4.3)\n",
      "Requirement already satisfied: periodictable in /nfs/software001/home/software/psfc/local/lib/py36 (1.6.1)\n",
      "Requirement already satisfied: numpy in /home/jcwright/.local/lib/python3.6/site-packages (from periodictable) (1.19.5)\n",
      "Requirement already satisfied: pyparsing in /nfs/software001/home/software/psfc/local/lib/py36 (from periodictable) (3.0.7)\n"
     ]
    }
   ],
   "source": [
    "#local installs if needed\n",
    "!git clone https://github.com/jcwright77/plasma.git\n",
    "!python3 -m pip install --user fortranformat\n",
    "!python3 -m pip install --user f90nml\n",
    "!python3 -m pip install --user periodictable\n"
   ]
  },
  {
   "cell_type": "code",
   "execution_count": 4,
   "id": "f7a0f669",
   "metadata": {
    "code_folding": []
   },
   "outputs": [],
   "source": [
    "#Required python modules\n",
    "import sys,os\n",
    "sys.path.insert(0,os.getcwd()+'/plasma')\n",
    "import matplotlib.pyplot as plt\n",
    "import numpy as np\n",
    "import scipy\n",
    "import f90nml\n",
    "from periodictable import elements\n",
    "from IPython.display import Markdown as md\n",
    "import equilibrium_process as eqdsk\n",
    "import subprocess\n",
    "import toric_tools as toric"
   ]
  },
  {
   "cell_type": "code",
   "execution_count": 5,
   "id": "36c19aea",
   "metadata": {
    "code_folding": [
     0
    ]
   },
   "outputs": [],
   "source": [
    "#Routine to be moved to plasma routines\n",
    "def print_vector(nrep,fstr,a):\n",
    "    \"\"\"\n",
    "    Converts an array of numbers into a string formated by fstr with nrep values per line.\n",
    "    \"\"\"\n",
    "    n=a.size\n",
    "    pa=\"\"\n",
    "    ta=a.reshape((a.size),order='F')\n",
    "    for j in range(0,n,nrep):\n",
    "        pa=pa+ \"\".join(map(lambda f: fstr % f, ta[j:min(j+nrep,n)]))+\"\\n\"\n",
    "    return pa\n",
    "\n",
    "def write_profnt(namelist,equidt,version='profnt2'):\n",
    "    \"\"\"\n",
    "    Inputs:\n",
    "        namelist: as created by f90nml from toric.inp\n",
    "        equidt: python dictionary of profiles to write out\n",
    "            psipro: sqrt(Psipol/Psipol[a])\n",
    "            tbne: [cm-3] on psipro mesh\n",
    "            tbte: [keV]  on psipro mesh\n",
    "            iatm: array of atomic masses/ (C12/12)\n",
    "            iazi: array of atomic numbers\n",
    "            tbni: ion densities on psipro mesh\n",
    "            tbi_provv: ion temperatures on psipro mesh\n",
    "            nspec: number of ion species\n",
    "            \n",
    "         version: Generally format2 is used. File is self describing in number of elements and profiles.\n",
    "    \"\"\"\n",
    "\n",
    "    filename=namelist['equidata']['profnt_file']\n",
    "    with open(filename,'w') as of:\n",
    "        nprodt=equidt['psipro'].size\n",
    "        profiles=['psipro','tbne','tbte','tbi_provv']\n",
    "        if version=='profnt1':\n",
    "            for profile in profiles:\n",
    "                of.write('{:<10s}{:4d}\\n'.format(profile, nprodt ))\n",
    "                of.write(print_vector(5,'%16.9e',equidt[profile]))\n",
    "\n",
    "        if version=='profnt2':\n",
    "            nspec=equidt['nspec']\n",
    "            mainsp=1\n",
    "            namelist['equidata']['mainsp']=mainsp\n",
    "            kdiff_idens=equidt['kdiff_idens'] #0 #specify concentrations\n",
    "            kdiff_itemp=equidt['kdiff_itemp'] #0 #one ion temp\n",
    "            of.write('{:<10s}{:4d}{:4d}{:4d}{:4d}{:4d}\\n'.format('profnt_py',nprodt,nspec,\n",
    "                                                                 mainsp,kdiff_idens,kdiff_itemp))\n",
    "            for isp in range(nspec):\n",
    "                of.write('{:4d}{:4d}\\n'.format(int(equidt['iatm'][isp]),int(equidt['iazi'][isp])) )\n",
    "            profiles=['psipro','tbne','tbte']\n",
    "            for profile in profiles:\n",
    "                of.write('{:<10s}{:4d}\\n'.format(profile, nprodt ))\n",
    "                of.write(print_vector(5,'%16.9e',equidt[profile]))\n",
    "#write ion densities\n",
    "            for isp in range(nspec):\n",
    "#                of.write('{:<10s}\\n{:4d}\\n'.format('ion_conc',equidt['aconc'][isp]) )\n",
    "#                of.write('{:<10s}\\n{:16.9e}\\n'.format('ion_conc',equidt['tbni'][0,isp]/equidt['tbne'][0]) )\n",
    "                if kdiff_idens==0:\n",
    "                    of.write('{:<10s}\\n'.format('ni_conc'+str(isp)))\n",
    "                    of.write('%16.9e \\n' % equidt['tbni'][isp]) \n",
    "                else:\n",
    "                    of.write('{:<10s}\\n'.format('tbni'+str(isp)))\n",
    "                    of.write(print_vector(5,'%16.9e',equidt['tbni'][:,isp]))\n",
    "                if kdiff_itemp==0 and isp==0:\n",
    "                    of.write('{:<10s}\\n'.format('ion_temp') )\n",
    "                    of.write(print_vector(5,'%16.9e',equidt['tbi_provv'])) \n",
    "#write ion temperatures\n",
    "                if kdiff_itemp==1:\n",
    "                    of.write('{:<10s}\\n'.format('ion_temp'+str(isp)) )\n",
    "                    of.write(print_vector(5,'%16.9e',equidt['tbi_provv'][:,isp])) \n",
    "\n",
    "\n",
    "                \n",
    "                \n",
    "def read_equidt(filename):\n",
    "    import fortranformat as ff\n",
    "    equidt={}\n",
    "    with open(filename,'r') as of:\n",
    "        line = of.readline()\n",
    "        reader = ff.FortranRecordReader('(A10,5i4)')\n",
    "        var_name, nprodt, nspec, mainsp,kdiff_idens, kdiff_itemp = reader.read(line)\n",
    "        \n",
    "            \n",
    "        line = of.readline()\n",
    "        reader = ff.FortranRecordReader('(A10,5i4)')\n",
    "\n",
    "        if var_name=='Rfxqlo_Pro':\n",
    "        #  DMC -- define flag to indicate TRANSP format variant\n",
    "            print(' Detected: TRANSP \"Rfxqlo_Pro\" file format variant!')\n",
    "            kdiff_itemp = 1\n",
    "            kdiff_idens = 1\n",
    "            rfxqlo_pro_variant = True\n",
    "        else:\n",
    "            rfxqlo_pro_variant = False\n",
    "\n",
    "        if kdiff_itemp==0:\n",
    "            nsptmp = 1\n",
    "        else:\n",
    "            nsptmp = 10 # place holder nspec\n",
    "\n"
   ]
  },
  {
   "cell_type": "markdown",
   "id": "9e05322e",
   "metadata": {},
   "source": [
    "## Process magnetic equilibrium\n",
    "There are analytic equilibria but here we will process and viz an g-eqdsk file."
   ]
  },
  {
   "cell_type": "markdown",
   "id": "8d8437c3",
   "metadata": {},
   "source": [
    "### Generate toric magnetic equilibrium \n",
    "Plot equilibrium and replace limiter. Then convert to fourier representation used by TORIC with geqxpl utility.\n",
    "\n",
    "Below we see that the original first time slice limiter is wrong. Toric input routines will flag this and exit.\n"
   ]
  },
  {
   "cell_type": "code",
   "execution_count": 6,
   "id": "78adf96b",
   "metadata": {},
   "outputs": [
    {
     "name": "stdout",
     "output_type": "stream",
     "text": [
      "/home/jcwright/SPARC/TSC-V2h01\r\n"
     ]
    }
   ],
   "source": [
    "!pwd"
   ]
  },
  {
   "cell_type": "code",
   "execution_count": 7,
   "id": "765db3a1",
   "metadata": {},
   "outputs": [],
   "source": [
    "!cp /home/software/psfc/local/share/equigs_gen.ind $workdir\n",
    "equigs_file=eqdsk_file+'.equigs'\n",
    "current_dir=os.getcwd()\n",
    "os.chdir(workdir)"
   ]
  },
  {
   "cell_type": "code",
   "execution_count": 8,
   "id": "b78e6c3f",
   "metadata": {},
   "outputs": [
    {
     "data": {
      "image/png": "[encoded data removed]",
      "text/plain": [
       "<Figure size 432x288 with 1 Axes>"
      ]
     },
     "metadata": {
      "needs_background": "light"
     },
     "output_type": "display_data"
    }
   ],
   "source": [
    "eq0,fig0=eqdsk.readGEQDSK(eqdsk_file,doplot=True,dolimiter=True);"
   ]
  },
  {
   "cell_type": "code",
   "execution_count": 9,
   "id": "ba584a7d",
   "metadata": {},
   "outputs": [
    {
     "data": {
      "image/png": "[encoded data removed]",
      "text/plain": [
       "<Figure size 360x720 with 1 Axes>"
      ]
     },
     "execution_count": 9,
     "metadata": {},
     "output_type": "execute_result"
    }
   ],
   "source": [
    "fig0.set_size_inches(5,10)\n",
    "ax=fig0.get_axes()[0]\n",
    "ax.grid()\n",
    "ax.plot([2.4,2.4],[-1.5,1.5],'b')\n",
    "ax.plot([1.85-0.585,1.85-0.585],[-1.5,1.5],'b')\n",
    "fig0"
   ]
  },
  {
   "cell_type": "code",
   "execution_count": 10,
   "id": "85eb33f6",
   "metadata": {},
   "outputs": [
    {
     "name": "stdout",
     "output_type": "stream",
     "text": [
      "  \n",
      "  G-EQdsk data accepted, maximum rel. GS error:   0.495642999090293     \n",
      "  \n",
      "  Bphi is counter-clockwise viewed from above (nsnccwb = 1)\n",
      "  \n",
      "  Jphi is counter-clockwise viewed from above (nsnccwi = 1)\n",
      "  \n",
      " equigs_write completion code (0=normal):           0\n",
      "\n"
     ]
    }
   ],
   "source": [
    "print(str(subprocess.run([\"geqxpl @equigs_gen/g_filename=\"+eqdsk_file+\"/equigs_filename=\"+equigs_file], \n",
    "                   shell=True, stdout=subprocess.PIPE).stdout, \"utf-8\" ) )"
   ]
  },
  {
   "cell_type": "markdown",
   "id": "8ad56d6c",
   "metadata": {},
   "source": [
    "## Create output files"
   ]
  },
  {
   "cell_type": "code",
   "execution_count": 11,
   "id": "f9f1a184",
   "metadata": {},
   "outputs": [
    {
     "data": {
      "text/plain": [
       "'/home/jcwright/SPARC/TSC-V2h01/plasma/toric_tools.py'"
      ]
     },
     "execution_count": 11,
     "metadata": {},
     "output_type": "execute_result"
    }
   ],
   "source": [
    "toric.__file__"
   ]
  },
  {
   "cell_type": "markdown",
   "id": "b85c73a5",
   "metadata": {},
   "source": [
    "Create toric object and read in equigs file created by geqxpl utility."
   ]
  },
  {
   "cell_type": "code",
   "execution_count": 12,
   "id": "1ba23c07",
   "metadata": {},
   "outputs": [
    {
     "name": "stdout",
     "output_type": "stream",
     "text": [
      "CRITICAL:  toric.ncdf  not found.\n",
      "Non-CRITICAL:  ./toric_qlde.cdf  not found.\n"
     ]
    }
   ],
   "source": [
    "case=toric.toric_analysis(mode='ICRF')"
   ]
  },
  {
   "cell_type": "code",
   "execution_count": 13,
   "id": "7c83bf06",
   "metadata": {},
   "outputs": [],
   "source": [
    "case.idebug=False\n",
    "case.read_equigs(equigsfile=equigs_file)"
   ]
  },
  {
   "cell_type": "code",
   "execution_count": 14,
   "id": "d95830e4",
   "metadata": {},
   "outputs": [
    {
     "data": {
      "text/plain": [
       "'/home/jcwright/SPARC/TSC-V2h01/run6_test'"
      ]
     },
     "execution_count": 14,
     "metadata": {},
     "output_type": "execute_result"
    }
   ],
   "source": [
    "os.getcwd()"
   ]
  },
  {
   "cell_type": "markdown",
   "id": "fb748466",
   "metadata": {},
   "source": [
    "#### Create mappings between r/a, rhopol=root(psipol), rhotor=root(psitor)"
   ]
  },
  {
   "cell_type": "code",
   "execution_count": 15,
   "id": "7c3d7bd8",
   "metadata": {},
   "outputs": [
    {
     "name": "stdout",
     "output_type": "stream",
     "text": [
      "[151.]\n",
      "minor/Major radius:  0.5072690061220002 1.91278192 1.91312441 1.85060378\n"
     ]
    }
   ],
   "source": [
    "nmhd=case.equigs['nmhd']\n",
    "imom=case.equigs['imom']\n",
    "\n",
    "rmc2d0 =case.equigs['rzmcs2d'][0:nmhd]  #center of each flux surface. first term is magnetic axis.\n",
    "zmc2d0 =case.equigs['rzmcs2d'][nmhd:2*nmhd]\n",
    "\n",
    "print(case.equigs['rzmcs2d'][2*nmhd:].shape/imom/4)\n",
    "rz=case.equigs['rzmcs2d'][2*nmhd:].reshape( (nmhd,4,imom), order='F' )\n",
    "Raxis=rmc2d0[0]\n",
    "rminor= (np.sum(rz[:,0,:],1)+ rmc2d0) - Raxis\n",
    "print ('minor/Major radius: ',rminor[-1],Raxis, eq0['rmaxis'], eq0['rcentr'])"
   ]
  },
  {
   "cell_type": "code",
   "execution_count": 16,
   "id": "fb04393b",
   "metadata": {},
   "outputs": [
    {
     "data": {
      "image/png": "[encoded data removed]",
      "text/plain": [
       "<Figure size 432x288 with 1 Axes>"
      ]
     },
     "metadata": {
      "needs_background": "light"
     },
     "output_type": "display_data"
    }
   ],
   "source": [
    "plt.plot(case.equigs['srad'],np.sum(rz[:,0,:],1) + rmc2d0) \n",
    "plt.title('Reconstructed major radius from equigs file');\n",
    "plt.xlabel('srad=root(psipol)');"
   ]
  },
  {
   "cell_type": "code",
   "execution_count": 17,
   "id": "7b27f407",
   "metadata": {},
   "outputs": [],
   "source": [
    "#map profiles vs r/a to rhopol (sqrt(Psi/Psilim))\n",
    "from   scipy.interpolate import interp1d\n",
    "rhopol = case.equigs['srad']\n",
    "rhor = rminor #TORIC fit\n",
    "rhotor = case.equigs['rhotor']\n",
    "PtoTmap = interp1d(rhopol,rhotor,kind='cubic',bounds_error=False,fill_value=0.0)\n",
    "rtoPmap = interp1d(rhor,  rhopol,kind='cubic',bounds_error=False,fill_value=1.0)\n",
    "\n",
    "Ptormap = interp1d(rhopol,  rhor,kind='cubic',bounds_error=False,fill_value=rhor[-1])"
   ]
  },
  {
   "cell_type": "code",
   "execution_count": 18,
   "id": "a60be6a4",
   "metadata": {},
   "outputs": [
    {
     "data": {
      "image/png": "[encoded data removed]",
      "text/plain": [
       "<Figure size 432x288 with 1 Axes>"
      ]
     },
     "metadata": {
      "needs_background": "light"
     },
     "output_type": "display_data"
    }
   ],
   "source": [
    "plt.plot(rminor,rtoPmap(rminor))\n",
    "plt.title(\"rhopol vs minor radius\");"
   ]
  },
  {
   "cell_type": "code",
   "execution_count": 19,
   "id": "1fbfdc8a",
   "metadata": {},
   "outputs": [
    {
     "data": {
      "text/plain": [
       "array([0.        , 0.02421263, 0.04810328, 0.07148202, 0.09432171,\n",
       "       0.1168191 , 0.13920484, 0.16169811, 0.18448212, 0.20774234,\n",
       "       0.23185645, 0.25711681, 0.28356376, 0.31121849, 0.34010756,\n",
       "       0.370307  , 0.40194562, 0.43512619, 0.47000388, 0.50726901])"
      ]
     },
     "execution_count": 19,
     "metadata": {},
     "output_type": "execute_result"
    }
   ],
   "source": [
    "Ptormap(np.linspace(0,1,20))"
   ]
  },
  {
   "cell_type": "code",
   "execution_count": 1,
   "id": "10c25abb",
   "metadata": {},
   "outputs": [],
   "source": [
    "import pickle"
   ]
  },
  {
   "cell_type": "code",
   "execution_count": 2,
   "id": "44d261c7",
   "metadata": {},
   "outputs": [
    {
     "ename": "NameError",
     "evalue": "name 'profile_file' is not defined",
     "output_type": "error",
     "traceback": [
      "\u001b[0;31m---------------------------------------------------------------------------\u001b[0m",
      "\u001b[0;31mNameError\u001b[0m                                 Traceback (most recent call last)",
      "\u001b[0;32m<ipython-input-2-3d47c7b14d32>\u001b[0m in \u001b[0;36m<module>\u001b[0;34m\u001b[0m\n\u001b[0;32m----> 1\u001b[0;31m \u001b[0;32mwith\u001b[0m \u001b[0mopen\u001b[0m\u001b[0;34m(\u001b[0m\u001b[0mprofile_file\u001b[0m\u001b[0;34m,\u001b[0m \u001b[0;34m'rb'\u001b[0m\u001b[0;34m)\u001b[0m \u001b[0;32mas\u001b[0m \u001b[0mfile\u001b[0m\u001b[0;34m:\u001b[0m\u001b[0;34m\u001b[0m\u001b[0m\n\u001b[0m\u001b[1;32m      2\u001b[0m         \u001b[0;32mtry\u001b[0m\u001b[0;34m:\u001b[0m\u001b[0;34m\u001b[0m\u001b[0m\n\u001b[1;32m      3\u001b[0m             \u001b[0mprofiles\u001b[0m\u001b[0;34m=\u001b[0m\u001b[0mpickle\u001b[0m\u001b[0;34m.\u001b[0m\u001b[0mload\u001b[0m\u001b[0;34m(\u001b[0m\u001b[0mfile\u001b[0m\u001b[0;34m)\u001b[0m\u001b[0;34m\u001b[0m\u001b[0m\n\u001b[1;32m      4\u001b[0m         \u001b[0;32mexcept\u001b[0m \u001b[0mEOFError\u001b[0m\u001b[0;34m:\u001b[0m\u001b[0;34m\u001b[0m\u001b[0m\n\u001b[1;32m      5\u001b[0m             \u001b[0;32mpass\u001b[0m\u001b[0;34m\u001b[0m\u001b[0m\n",
      "\u001b[0;31mNameError\u001b[0m: name 'profile_file' is not defined"
     ]
    }
   ],
   "source": [
    "with open(profile_file, 'rb') as file:\n",
    "        try:\n",
    "            profiles=pickle.load(file)\n",
    "        except EOFError:\n",
    "            pass"
   ]
  },
  {
   "cell_type": "code",
   "execution_count": 22,
   "id": "cb63a1b5",
   "metadata": {},
   "outputs": [
    {
     "data": {
      "text/plain": [
       "dict_keys(['rho_tor', 'vol_zone', 'te', 'ti', 'ne', 'Zeff', 'nD', 'nT', 'nZ', 'nZ_zave_vol', 'nHe3', 'tHe3', 'nHe4_fast', 'nHe4_thermal', 'WHe3_perp', 'WHe3_par', 'WHe4_perp', 'WHe4_par', 'FastAlpha_source', 'Pich_min', 'chi_e', 'chi_i', 'jtor', 'jtor_b', 'Bt_ext', 'Bt_plasma', 'Rmajor', 'timeExtracted', 'P_LCFS', 'W_th', 'W_tot', 'li1', 'li3', 'rho_pol', 'pol_flux', 'q', 'shat', 'rmin', 'Rmax', 'Rmin', 'Zmax', 'Zmin', 'timeLastSawtooth', 'timeRangeExtracted'])"
      ]
     },
     "execution_count": 22,
     "metadata": {},
     "output_type": "execute_result"
    }
   ],
   "source": [
    "profiles.keys()"
   ]
  },
  {
   "cell_type": "markdown",
   "id": "9904eb75",
   "metadata": {},
   "source": [
    "Note the profiles['rmin'] is an average radius quantity used in transport analysis and not a true radius."
   ]
  },
  {
   "cell_type": "code",
   "execution_count": 23,
   "id": "9ab96086",
   "metadata": {},
   "outputs": [
    {
     "data": {
      "text/plain": [
       "dict_keys(['nW', 'nH', 'nbbbs', 'limitr', 'rdim', 'zdim', 'rcentr', 'rleft', 'zmid', 'rmaxis', 'zmaxis', 'simag', 'sibry', 'bcentr', 'current', 'fpol', 'pres', 'ffprim', 'pprime', 'psizr', 'qpsi', 'rbbbs', 'zbbbs', 'rlim', 'zlim', 'r', 'z', 'fluxGrid', 'iiInside'])"
      ]
     },
     "execution_count": 23,
     "metadata": {},
     "output_type": "execute_result"
    }
   ],
   "source": [
    "eq0.keys()"
   ]
  },
  {
   "cell_type": "code",
   "execution_count": 24,
   "id": "ebd02b7e",
   "metadata": {},
   "outputs": [
    {
     "data": {
      "image/png": "[encoded data removed]",
      "text/plain": [
       "<Figure size 432x288 with 1 Axes>"
      ]
     },
     "metadata": {
      "needs_background": "light"
     },
     "output_type": "display_data"
    }
   ],
   "source": [
    "plt.plot(profiles['rho_tor'],profiles['ne'],label='ne') #looks like 1e20 units\n",
    "plt.title('Densities vs rho_tor')\n",
    "plt.legend();"
   ]
  },
  {
   "cell_type": "code",
   "execution_count": 25,
   "id": "5daa0aee",
   "metadata": {},
   "outputs": [
    {
     "data": {
      "text/plain": [
       "array([0.02160237, 0.03607057, 0.05052128, 0.06487812, 0.07917478,\n",
       "       0.09347048, 0.10776363, 0.12204809, 0.13632829, 0.15060297,\n",
       "       0.1648734 , 0.17914035, 0.19340138, 0.20765023, 0.2218789 ,\n",
       "       0.2360817 , 0.25025742, 0.26440983, 0.27854628, 0.29266795,\n",
       "       0.30676159, 0.32081647, 0.33483699, 0.34883058, 0.36280089,\n",
       "       0.37674767, 0.39066773, 0.40454985, 0.41837844, 0.43213334,\n",
       "       0.44578906, 0.45931639, 0.47268601, 0.48587126, 0.49885429,\n",
       "       0.51162398, 0.52417529, 0.5365076 , 0.54862419, 0.56053118,\n",
       "       0.57223516, 0.58374485, 0.59506922, 0.60621741, 0.61719598,\n",
       "       0.62801018, 0.63866368, 0.64915968, 0.65949981, 0.6696859 ,\n",
       "       0.67971882, 0.6896002 , 0.69933131, 0.70891312, 0.71834663,\n",
       "       0.7276331 , 0.73677365, 0.74576912, 0.75462063, 0.7633289 ,\n",
       "       0.77189524, 0.78032017, 0.78860482, 0.79675012, 0.80475645,\n",
       "       0.81262528, 0.820357  , 0.82795304, 0.83541424, 0.84274147,\n",
       "       0.84993573, 0.85699807, 0.86392858, 0.87072805, 0.87739724,\n",
       "       0.88393671, 0.89034685, 0.89662839, 0.9027815 , 0.90880657,\n",
       "       0.91470409, 0.92047404, 0.92611518, 0.93162705, 0.93700766,\n",
       "       0.94225629, 0.94737223, 0.9523551 , 0.95720568, 0.96192561,\n",
       "       0.96651824, 0.97098707, 0.9753386 , 0.97958762, 0.98375987,\n",
       "       0.98785784, 0.99179819, 0.99541925, 0.9985638 ])"
      ]
     },
     "execution_count": 25,
     "metadata": {},
     "output_type": "execute_result"
    },
    {
     "data": {
      "image/png": "[encoded data removed]",
      "text/plain": [
       "<Figure size 432x288 with 1 Axes>"
      ]
     },
     "metadata": {
      "needs_background": "light"
     },
     "output_type": "display_data"
    }
   ],
   "source": [
    "plt.plot(profiles['rho_pol'],profiles['te'],label='te')\n",
    "plt.plot(profiles['rho_pol'],profiles['ti'],label='ti');\n",
    "plt.title('Temperatures vs rho_pol')\n",
    "plt.legend();\n",
    "profiles['rho_pol']"
   ]
  },
  {
   "cell_type": "code",
   "execution_count": 26,
   "id": "839ae895",
   "metadata": {},
   "outputs": [
    {
     "data": {
      "text/plain": [
       "((265, 265), (265, 265))"
      ]
     },
     "execution_count": 26,
     "metadata": {},
     "output_type": "execute_result"
    }
   ],
   "source": [
    "B,GP,FRZ,Rv,Zv=eqdsk.getModB(eq0)\n",
    "Rv.shape,B.shape"
   ]
  },
  {
   "cell_type": "code",
   "execution_count": 27,
   "id": "8cd97332",
   "metadata": {},
   "outputs": [
    {
     "data": {
      "image/png": "[encoded data removed]",
      "text/plain": [
       "<Figure size 720x360 with 1 Axes>"
      ]
     },
     "metadata": {
      "needs_background": "light"
     },
     "output_type": "display_data"
    }
   ],
   "source": [
    "dims=Rv.shape\n",
    "fig = plt.figure(figsize=(10, 5))\n",
    "ax = fig.add_subplot(1, 1, 1)\n",
    "\n",
    "# Major ticks every 20, minor ticks every 5\n",
    "major_ticks = np.arange(-1, 1, 0.1)\n",
    "minor_ticks = np.arange(-1, 1, 0.05)\n",
    "\n",
    "ax.set_xticks(major_ticks)\n",
    "ax.set_xticks(minor_ticks, minor=True)\n",
    "#ax.set_yticks(major_ticks)\n",
    "#ax.set_yticks(minor_ticks, minor=True)\n",
    "\n",
    "# And a corresponding grid\n",
    "ax.grid(which='major')\n",
    "ax.grid(which='minor',alpha=0.3)\n",
    "\n",
    "plt.plot(Rv[int(dims[0]/2),:]-eq0['rmaxis'],FRZ[int(dims[0]/2),:]);\n",
    "plt.plot([-0.57,-0.57],[22,23])\n",
    "plt.plot([0.57,0.57],[22,23]);"
   ]
  },
  {
   "cell_type": "markdown",
   "id": "c4f077a1",
   "metadata": {},
   "source": [
    "### Modify input file to run `TORIC`"
   ]
  },
  {
   "cell_type": "code",
   "execution_count": 28,
   "id": "b543bae7",
   "metadata": {},
   "outputs": [],
   "source": [
    "toricnml=f90nml.read('/home/jcwright/etc/TORIC/torica_sparc.inp.template')"
   ]
  },
  {
   "cell_type": "code",
   "execution_count": 29,
   "id": "f93d698e",
   "metadata": {},
   "outputs": [
    {
     "name": "stdout",
     "output_type": "stream",
     "text": [
      "&toric_mode\n",
      "    toricmode = 'toric'\n",
      "/\n",
      "\n",
      "&toricainp\n",
      "    nvrb = 3\n",
      "    nelm = 320\n",
      "    ntt = 128\n",
      "    nmod = 63\n",
      "    nptvac = -1\n",
      "    mxmvac = 15\n",
      "    freqcy = 120000000.0\n",
      "    nphi = 30\n",
      "    antlen = 27.0512957943942\n",
      "    antlc = 1.6\n",
      "    theant = 0.00481340748212431\n",
      "    iflr = 1\n",
      "    ibweld = 1\n",
      "    ibpol = 1\n",
      "    iqtor = 1\n",
      "    icoll = 0\n",
      "    enhcol = 1.0\n",
      "    imdedg = 2\n",
      "    iezvac = 1\n",
      "    icosig = 0\n",
      "    iregax = 1\n",
      "    isol = 1\n",
      "    mastch = 2\n",
      "    lenwrd = 8\n",
      "    pcblock = 4\n",
      "    bscale = 12\n",
      "    iout = 0\n",
      "    iwdisk = 0\n",
      "    idlout = 1\n",
      "    ipltht = 0\n",
      "    io_ncdf = 1\n",
      "    zeff = 1.46229248732297\n",
      "    iclres = 0\n",
      "    dnures = 2.5\n",
      "    tnures = 5.0\n",
      "    scratchpath = './ '\n",
      "    timing_on = .false.\n",
      "/\n",
      "\n",
      "&equidata\n",
      "    atm(1:10) = 1.99955210328161, 2.99426163230608, 3.97368759410027, 18.8611574140408,\n",
      "                182.174413923093, 2.9942415010902, 1.0, 2.99426163230608,\n",
      "                2.9942415010902, 3.97368759410027\n",
      "    azi(1:10) = 1.0, 1.0, 2.0, 9.0, 74.0, 2.0, 1.0, 1.0, 2.0, 2.0\n",
      "    aconc(1:10) = 0.422676777370231, 0.423182943198258, 0.00404362467411854,\n",
      "                  0.00492125525922733, 0.0, 0.0495167865541466, 0.0, 0.0,\n",
      "                  0.0, 0.00089236146100273\n",
      "    igsmhd = 1\n",
      "    intchb = 0\n",
      "    iudsym = 0\n",
      "    dist_plafars = 0.25\n",
      "    dist_plaant = 2.25\n",
      "    dist_plawall(1:4) = 7.97703388216874, 15.5273519360167, 7.94438309853072,\n",
      "                        15.4855062550096\n",
      "    rtor = 185.054908639814\n",
      "    rplasm = 52.3689345227073\n",
      "    ashift = 4.60980661239259\n",
      "    aellip = 1.0\n",
      "    sellip = 1.94253627951623\n",
      "    strian = -0.517262338839001\n",
      "    azvert = 0.0\n",
      "    strigz = 0.0\n",
      "    sp_xs1 = 0.0\n",
      "    bzero = 12.6190507930071\n",
      "    idprof = 1\n",
      "    nspec = 10\n",
      "    mainsp = 2\n",
      "    denec = 43.2856329728955\n",
      "    tempec = 21.0962123828887\n",
      "    tempic(1:10) = 19.5491739900388, 19.5491739900388, 19.5491739900388,\n",
      "                   19.5491739900388, 19.5491739900388, 149.745098336247,\n",
      "                   1168.60846761248, 363.804653716826, 292.234044359963,\n",
      "                   1026.54563910638\n",
      "    ppnei = 1.5\n",
      "    ppnee = 1.0\n",
      "    pptei = 1.5\n",
      "    pptee = 1.0\n",
      "    pptii = 1.5\n",
      "    pptie = 1.0\n",
      "    aicurr = 0.0\n",
      "    ppjte = 0.0\n",
      "    ppjti = 0.0\n",
      "    dnsepr = 9.1686403309568\n",
      "    tesepr = 0.256750917397729\n",
      "    tisepr(1:10) = 0.558695359831384, 0.558695359831384, 0.558695359831384,\n",
      "                   0.558695359831384, 0.558695359831384, 1.65353123234284,\n",
      "                   627.784402050355, 370.552475753765, 216.719102573131,\n",
      "                   718.542316411356\n",
      "    so_thickness = 0.0\n",
      "    gldn = 100000.0\n",
      "    glte = 100000.0\n",
      "    glti = 100000.0\n",
      "    inputpath = '12345P19_icrf/ '\n",
      "    equil_file = '12345P19_equigs.dat '\n",
      "    profnt_file = '12345P19_profnt.dat '\n",
      "/\n",
      "\n",
      "&gfreadinp\n",
      "    gfile = '/afs/ipp/home/m/mab/ntcc/g096161.01500 '\n",
      "    inputformat = 3\n",
      "    nmhd = 165\n",
      "    ntheta = 129\n",
      "    i2mex_remap = 1\n",
      "    i2mex_mx = 2\n",
      "    i2mex_npsi = 0\n",
      "    i2mex_kb = 0\n",
      "    i2mex_direct = 1\n",
      "    i2mex_last_norm_surface_is = 0.899999976158142\n",
      "    ic1 = 2\n",
      "    inc = -1\n",
      "    imom1 = 10\n",
      "/\n",
      "\n",
      "&tofppmodinp\n",
      "    numpsi = 0\n",
      "    power_mw = 5.5\n",
      "    path_to_t4data = ' '\n",
      "    t4data_file = 'NONE '\n",
      "    path_to_fppdata = '12345P19_icrf/ '\n",
      "    fppdata_file = '12345P19_A1_30.fppdata '\n",
      "    iwdisk = 0\n",
      "    xx_file = '12345P19_xx.dat '\n",
      "    nxx_per = 1\n",
      "/\n"
     ]
    }
   ],
   "source": [
    "print(toricnml)"
   ]
  },
  {
   "cell_type": "code",
   "execution_count": 30,
   "id": "01737968",
   "metadata": {
    "code_folding": [
     0,
     14
    ]
   },
   "outputs": [],
   "source": [
    "def fit_prof(r,rpro,pro):\n",
    "    \"\"\"\n",
    "    r: radius at which to evaluate the profile\n",
    "    rpro: radius at which the profile is given\n",
    "    pro: profile to map\n",
    "    \n",
    "    toric expects the radii to be root psi pol normalized\n",
    "    \"\"\"\n",
    "    fint=interp1d(rpro,pro,kind='cubic',bounds_error=False,fill_value=pro[-1])\n",
    "    pint=fint(r)\n",
    "    #print(type(fint(r)),type(pint))\n",
    "    #print('fit prof',r, rpro)\n",
    "    return pint\n",
    "\n",
    "def fit_prof_Psi(r,rpro,pro):\n",
    "    \"\"\"\n",
    "    r: radius at which to evaluate the profile\n",
    "    rpro: radius at which the profile is given\n",
    "    pro: profile to map\n",
    "    \n",
    "    toric expects the radii to be root psi pol normalized\n",
    "    \"\"\"\n",
    "    fint=interp1d(rpro,pro,kind='cubic',bounds_error=False,fill_value=(pro[0],pro[-1])  )\n",
    "    #fills with last value of off mesh, but add logic for center as well\n",
    "    \n",
    "    pint=fint(r)\n",
    "    return pint\n",
    "\n",
    "\n",
    "equidt={}\n",
    "npsipro=101\n",
    "Psipol=np.linspace(0,1,npsipro)\n",
    "\n",
    "equidt['psipro']=Psipol #defined to be root norm psipol\n",
    "#radius where we need profiles that maps to the toric psi grid\n",
    "rpsi=Ptormap(Psipol)\n",
    "\n",
    "#equidt conventions\n",
    "#            psipro: sqrt(Psipol/Psipol[a])\n",
    "#            tbne: [cm-3] on psipro mesh\n",
    "#            tbte: [keV]  on psipro mesh\n",
    "#            iatm: array of atomic masses/ (C12/12)\n",
    "#            iazi: array of atomic numbers\n",
    "#            tbni: ion densities on psipro mesh\n",
    "#            tbi_provv: ion temperatures on psipro mesh\n",
    "#            nspec: number of ion species\n",
    "\n",
    "\n",
    "#interpolate profiles to radius needed\n",
    "equidt['tbne']=fit_prof_Psi(Psipol,profiles['rho_pol'],profiles['ne'])*1e14 #fit to poloidal flux\n",
    "equidt['tbte']=fit_prof_Psi(Psipol,profiles['rho_pol'],profiles['te'])\n",
    "equidt['iatm']=iatm \n",
    "equidt['iazi']=iazi\n",
    "equidt['nspec']=nspec\n",
    "\n",
    "#advanced usage. Settings of 0,0 mean only one density and temperature profile is given.\n",
    "equidt['kdiff_itemp']=0\n",
    "equidt['kdiff_idens']=0\n",
    "#add logic for options\n",
    "\n",
    "#using concentrations:\n",
    "dt_conc=0.5*(1.-min_conc*iazi[2]/100.)\n",
    "tbni=[dt_conc,dt_conc,min_conc/100.]\n",
    "equidt['tbni']=tbni\n",
    "\n",
    "#ion temp\n",
    "tbi_provv=equidt['tbte']\n",
    "equidt['tbi_provv']=tbi_provv\n",
    "\n",
    "toricnml['equidata']['nspec']=nspec\n",
    "toricnml['equidata']['atm']=iatm\n",
    "toricnml['equidata']['azi']=iazi\n",
    "toricnml['equidata']['aconc']=equidt['tbni']"
   ]
  },
  {
   "cell_type": "code",
   "execution_count": 31,
   "id": "9f049bdc",
   "metadata": {
    "code_folding": []
   },
   "outputs": [
    {
     "data": {
      "text/plain": [
       "[{'name': 'e', 'A': 0, 'Z': -1, 'Conc%': 100},\n",
       " {'name': 'D', 'A': 2, 'Z': 1, 'Conc%': 47.0},\n",
       " {'name': 'T', 'A': 3, 'Z': 1, 'Conc%': 47.0},\n",
       " {'name': '3-He', 'A': 3, 'Z': 2, 'Conc%': 3.0}]"
      ]
     },
     "execution_count": 31,
     "metadata": {},
     "output_type": "execute_result"
    }
   ],
   "source": [
    "# Plasma species in template namelist\n",
    "def get_spec_toric(toricnml):\n",
    "    \"Collect info on species for ICRF sim in TORIC in nice readable format\"\n",
    "    \n",
    "    spec_toric=list(zip(map(round,toricnml['equidata']['atm']),map(int,toricnml['equidata']['azi'])))\n",
    "    for i,s in enumerate(spec_toric):\n",
    "      name=str(elements[s[1]][s[0]])\n",
    "      spec_toric[i]={'name':name,'A':spec_toric[i][0],'Z':spec_toric[i][1],'Conc%':100*toricnml['equidata']['aconc'][i]}\n",
    "    \n",
    "    spec_toric.insert(0,{'name':'e', 'A':0, 'Z':-1 , 'Conc%': 100})\n",
    "    return spec_toric\n",
    "\n",
    "spec_toric=get_spec_toric(toricnml)\n",
    "#nspec=len(spec_toric)\n",
    "spec_toric"
   ]
  },
  {
   "cell_type": "code",
   "execution_count": 32,
   "id": "25d4d826",
   "metadata": {},
   "outputs": [
    {
     "data": {
      "image/png": "[encoded data removed]",
      "text/plain": [
       "<Figure size 432x288 with 1 Axes>"
      ]
     },
     "metadata": {
      "needs_background": "light"
     },
     "output_type": "display_data"
    }
   ],
   "source": [
    "plt.plot(Psipol,equidt['tbne'],'r.');\n",
    "plt.title('Electron density vs norm root pol flux')\n",
    "plt.grid();\n"
   ]
  },
  {
   "cell_type": "code",
   "execution_count": 33,
   "id": "866b2f90",
   "metadata": {},
   "outputs": [
    {
     "data": {
      "image/png": "[encoded data removed]",
      "text/plain": [
       "<Figure size 432x288 with 1 Axes>"
      ]
     },
     "metadata": {
      "needs_background": "light"
     },
     "output_type": "display_data"
    }
   ],
   "source": [
    "plt.plot(Psipol,equidt['tbte'],'r.',label='Te')\n",
    "plt.plot(Psipol,equidt['tbi_provv'],'g',label='Ti')\n",
    "plt.title('Temperatures vs norm root pol flux')\n",
    "plt.legend()\n",
    "plt.grid();"
   ]
  },
  {
   "cell_type": "markdown",
   "id": "73262049",
   "metadata": {},
   "source": [
    "Note that  Conc in the aconc toric namelist is not in percent. This template is for full field D-T burn. For startup you may want to reduce alpha (4-He) concentration. Optimal 3-He concentration may be lower than 5% also.\n",
    "\n",
    "Distances are in cm in namelist.\n",
    "\n",
    "note write_profnt takes species info from namelist eq0_nml, but toric only reads from profnt for species if it exists\n",
    "\n",
    "----"
   ]
  },
  {
   "cell_type": "markdown",
   "id": "960d53cc",
   "metadata": {},
   "source": [
    "Using a previous Transp SPARC TORIC run as a template, we create a new input file. \n",
    "\n",
    "We keep ICRF settings on frequency, antenna, etc the same. Interested users may want to vary `nphi` for exploration of antenna phasing. \n",
    "\n",
    "`TORIC` has its own wall model with spacing for the wall and antenna specified relative to the LCF of the plasma. We give suggested values based on the actual SPARC wall and LCF for this case.\n",
    "\n",
    "In SPARC, the antenna is at an absolute position of about 2.44m"
   ]
  },
  {
   "cell_type": "markdown",
   "id": "4524e751",
   "metadata": {},
   "source": [
    "distances plasma edge to wall (cm) ::   1 : outer; 2 : up; 3 : inner; 4 : down\n",
    "\n",
    "Estimate values to use from LCF and SPARC wall."
   ]
  },
  {
   "cell_type": "markdown",
   "id": "0b5512d9",
   "metadata": {},
   "source": [
    "### Write equidt.data file for profiles and toric.nml"
   ]
  },
  {
   "cell_type": "code",
   "execution_count": 48,
   "id": "4703e193",
   "metadata": {},
   "outputs": [],
   "source": [
    "from copy import deepcopy\n",
    "eq0_nml=deepcopy(toricnml)"
   ]
  },
  {
   "cell_type": "code",
   "execution_count": 49,
   "id": "ae2e1e3d",
   "metadata": {},
   "outputs": [],
   "source": [
    "#the values set below are determined from settings in cell 1 or the equilibrium files\n",
    "eq0_nml['toricainp']['nmod']=toric_mesh[1]/2-1\n",
    "eq0_nml['toricainp']['ntt']=toric_mesh[1]\n",
    "eq0_nml['toricainp']['nelm']=toric_mesh[0]\n",
    "eq0_nml['toricainp']['mxmvac']=min(63,eq0_nml['toricainp']['nmod'])"
   ]
  },
  {
   "cell_type": "code",
   "execution_count": 50,
   "id": "9614db79",
   "metadata": {},
   "outputs": [],
   "source": [
    "eq0_nml['equidata']['inputpath']='./'\n",
    "eq0_nml['equidata']['nspec']=nspec\n",
    "eq0_nml['equidata']['equil_file']=eqdsk_file+'.equigs'\n",
    "eq0_nml['equidata']['profnt_file']=eqdsk_file+'.equidt'\n",
    "\n",
    "#note write_profnt takes species info from namelist eq0_nml, but toric only reads from profnt for \n",
    "#for species if it exists\n",
    "write_profnt(eq0_nml,equidt,version='profnt2')"
   ]
  },
  {
   "cell_type": "code",
   "execution_count": 51,
   "id": "98eb1541",
   "metadata": {},
   "outputs": [
    {
     "name": "stdout",
     "output_type": "stream",
     "text": [
      "Values dist_plawall: [23.964259000000034, 51.741305999999994, 4.085172000000004, 51.61501]\n"
     ]
    }
   ],
   "source": [
    "dist_plawall=(np.array(\n",
    "     [np.max(eq0['rlim'])-np.max(eq0['rbbbs']),\n",
    "      np.max(eq0['zlim'])-np.max(eq0['zbbbs']),\n",
    "      -np.min(eq0['rlim'])+np.min(eq0['rbbbs']),\n",
    "      -np.min(eq0['zlim'])+np.min(eq0['zbbbs']) ] )*100 ).tolist()\n",
    "print(\"Values dist_plawall:\", dist_plawall)"
   ]
  },
  {
   "cell_type": "code",
   "execution_count": 52,
   "id": "18cae903",
   "metadata": {},
   "outputs": [],
   "source": [
    "eq0_nml['equidata']['dist_plawall']= dist_plawall\n",
    "eq0_nml['equidata']['dist_plafars']= 2.0 # (np.max(eq0['rlim'])-np.max(eq0['rbbbs']))*100.-1.5 #faraday offset\n",
    "eq0_nml['equidata']['dist_plaant']= 4.0 #(np.max(eq0['rlim'])-np.max(eq0['rbbbs']))*100.-0.5  #ant offset"
   ]
  },
  {
   "cell_type": "code",
   "execution_count": 53,
   "id": "5e4c20a2",
   "metadata": {},
   "outputs": [
    {
     "data": {
      "text/plain": [
       "(0.5072690061220002,\n",
       " [23.964259000000034, 51.741305999999994, 4.085172000000004, 51.61501],\n",
       " 2.0,\n",
       " 4.0)"
      ]
     },
     "execution_count": 53,
     "metadata": {},
     "output_type": "execute_result"
    }
   ],
   "source": [
    "np.max(rminor),eq0_nml['equidata']['dist_plawall'],eq0_nml['equidata']['dist_plafars'],eq0_nml['equidata']['dist_plaant']"
   ]
  },
  {
   "cell_type": "markdown",
   "id": "51b688a5",
   "metadata": {},
   "source": [
    "The namelist variable `idprof` determines whether we use doubly parabolic analytic profiles or numerical ones. Here we handle the case of numerical profiles."
   ]
  },
  {
   "cell_type": "code",
   "execution_count": 54,
   "id": "07c5ac9a",
   "metadata": {},
   "outputs": [],
   "source": [
    "assert eq0_nml['equidata']['idprof']==1, f\"idprof must be 1 to use profiles: {eq0_nml['equidata']['idprof']}\""
   ]
  },
  {
   "cell_type": "markdown",
   "id": "0a3d23a3",
   "metadata": {},
   "source": [
    "Create profile inputs in the format toric uses."
   ]
  },
  {
   "cell_type": "code",
   "execution_count": 55,
   "id": "cf41a140",
   "metadata": {},
   "outputs": [],
   "source": [
    "eq0_nml['toricainp']['isol']=1  # 0 running diagnostic mode\n",
    "eq0_nml['toricainp']['timing_on']=True\n",
    "eq0_nml['toricainp']['nphi'] = int(kpar_ant*(eq0_nml['equidata']['dist_plaant']/100+rminor[-1]+Raxis) )\n",
    "\n",
    "eq0_nml.write('torica.inp','w')"
   ]
  },
  {
   "cell_type": "code",
   "execution_count": 56,
   "id": "6715fdae",
   "metadata": {},
   "outputs": [
    {
     "name": "stdout",
     "output_type": "stream",
     "text": [
      "Toroidal mode of antenna is:  28\n"
     ]
    }
   ],
   "source": [
    "print('Toroidal mode of antenna is: ',eq0_nml['toricainp']['nphi'])"
   ]
  },
  {
   "cell_type": "markdown",
   "id": "cb3910f2",
   "metadata": {
    "heading_collapsed": true
   },
   "source": [
    "### Execute `TORIC`"
   ]
  },
  {
   "cell_type": "code",
   "execution_count": 58,
   "id": "cdb0628f",
   "metadata": {
    "hidden": true
   },
   "outputs": [],
   "source": [
    "#This will run at resolution of 400x63 in under a minute if nodes are free\n",
    "#You can check that with sinfo\n",
    "#alternatively run Storic.e for serial execution in about 4 minutes\n",
    "#requires module load psfc/toric5\n",
    "!cp /home/software/psfc/local/share/toric.slurm ."
   ]
  },
  {
   "cell_type": "code",
   "execution_count": 59,
   "id": "ef984053",
   "metadata": {
    "hidden": true
   },
   "outputs": [
    {
     "name": "stdout",
     "output_type": "stream",
     "text": [
      "Submitted batch job 45848291\n",
      "\n",
      "Job ID is:  45848291\n"
     ]
    }
   ],
   "source": [
    "jobmessage=str(subprocess.run([\"sbatch toric.slurm\"], \n",
    "                   shell=True, stdout=subprocess.PIPE).stdout, \"utf-8\" )\n",
    "print(jobmessage)\n",
    "jobid=jobmessage.split()[-1]                \n",
    "print('Job ID is: ',jobid)"
   ]
  },
  {
   "cell_type": "code",
   "execution_count": 60,
   "id": "98d1cbf7",
   "metadata": {
    "hidden": true
   },
   "outputs": [
    {
     "name": "stdout",
     "output_type": "stream",
     "text": [
      "Job status is\n",
      "             JOBID PARTITION     NAME     USER ST       TIME  NODES NODELIST(REASON)\n",
      "          45848291 sched_mit    Toric jcwright  R       0:06      1 node550\n"
     ]
    }
   ],
   "source": [
    "print('Job status is')\n",
    "!squeue --job $jobid"
   ]
  },
  {
   "cell_type": "code",
   "execution_count": 61,
   "id": "d5c085ae",
   "metadata": {
    "hidden": true
   },
   "outputs": [
    {
     "name": "stdout",
     "output_type": "stream",
     "text": [
      "Profiling and runtime\n",
      "   JobName    Elapsed \n",
      "---------- ---------- \n",
      "     Toric   00:00:11 \n",
      "     batch   00:00:11 \n",
      "    extern   00:00:11 \n",
      "hydra_bst+   00:00:11 \n"
     ]
    }
   ],
   "source": [
    "print('Profiling and runtime')\n",
    "!sacct  -j $jobid -o \"JobName, Elapsed\""
   ]
  },
  {
   "cell_type": "code",
   "execution_count": null,
   "id": "7dc33fae",
   "metadata": {
    "hidden": true
   },
   "outputs": [],
   "source": [
    "from importlib import reload  # Python 3.4+\n",
    "\n",
    "toric = reload(toric)"
   ]
  },
  {
   "cell_type": "code",
   "execution_count": null,
   "id": "8e82427a",
   "metadata": {
    "hidden": true
   },
   "outputs": [],
   "source": [
    "case2=toric.toric_analysis(mode='ICRF')"
   ]
  },
  {
   "cell_type": "code",
   "execution_count": null,
   "id": "1ee22a13",
   "metadata": {
    "hidden": true
   },
   "outputs": [],
   "source": [
    "case2.info()"
   ]
  },
  {
   "cell_type": "code",
   "execution_count": null,
   "id": "cd6544c3",
   "metadata": {
    "hidden": true
   },
   "outputs": [],
   "source": [
    "case2.plotpower();"
   ]
  },
  {
   "cell_type": "code",
   "execution_count": null,
   "id": "c6b41466",
   "metadata": {
    "hidden": true
   },
   "outputs": [],
   "source": [
    "ispec=3\n",
    "case2.plotpower(power='PwIF',species=ispec)\n",
    "plt.xlim([0,1])\n",
    "plt.title(spec_toric[ispec]['name']);"
   ]
  },
  {
   "cell_type": "code",
   "execution_count": null,
   "id": "31221b81",
   "metadata": {
    "hidden": true
   },
   "outputs": [],
   "source": [
    "case2.spectrum(cx=1)"
   ]
  },
  {
   "cell_type": "code",
   "execution_count": null,
   "id": "93cfad1a",
   "metadata": {
    "hidden": true
   },
   "outputs": [],
   "source": [
    "case2.plot_2Dfield('Eplus',logl=-20, im=True, scaletop=0.12);"
   ]
  },
  {
   "cell_type": "code",
   "execution_count": null,
   "id": "90c488aa",
   "metadata": {
    "hidden": true
   },
   "outputs": [],
   "source": [
    "case2.plot_2Dfield('Eminus',logl=-20, im=True, scaletop=0.25);"
   ]
  },
  {
   "cell_type": "code",
   "execution_count": null,
   "id": "b6fbd06e",
   "metadata": {
    "hidden": true
   },
   "outputs": [],
   "source": [
    "case2.plot_2Dfield('Re2Eminus',logl=20, scaletop=0.8);"
   ]
  },
  {
   "cell_type": "markdown",
   "id": "648bfe57",
   "metadata": {
    "heading_collapsed": true
   },
   "source": [
    "### Make theta mesh from equilibrium"
   ]
  },
  {
   "cell_type": "code",
   "execution_count": null,
   "id": "6a053af4",
   "metadata": {
    "hidden": true
   },
   "outputs": [],
   "source": [
    "eq=deepcopy(eq0)"
   ]
  },
  {
   "cell_type": "code",
   "execution_count": null,
   "id": "eab8cd01",
   "metadata": {
    "code_folding": [],
    "hidden": true
   },
   "outputs": [],
   "source": [
    "#routine for making equal arclength mesh. saved in file eqdsk_file+'.pkl'\n",
    "def mapper(eqfile,jac):\n",
    "    from scipy.signal import butter, filtfilt\n",
    "    def butter_lowpass(cutoff, fs, order=5):\n",
    "        nyq = 0.5 * fs\n",
    "        normal_cutoff = cutoff / nyq\n",
    "        b, a = butter(order, normal_cutoff, btype='low', analog=False)\n",
    "        return b, a\n",
    "\n",
    "def butter_lowpass_filtfilt(data, cutoff, fs, order=5):\n",
    "    b, a = butter_lowpass(cutoff, fs, order=order)\n",
    "    y = filtfilt(b, a, data)\n",
    "    return y\n",
    "\n",
    "def find_cut(x,y, rmaxis, zmaxis):\n",
    "  #adapted from S. Shiraiwai to find crossing going counter clockwise\n",
    "  for k in range(len(y)-1):\n",
    "       km = k-1\n",
    "       if y[km] < zmaxis and y[k] > zmaxis:\n",
    "         return k\n",
    "  return -1\n",
    "\n",
    "\n",
    "import scipy.integrate as integrate\n",
    "import scipy.fftpack as sft\n",
    "import scipy.interpolate as interpolate\n",
    "\n",
    "eqfileobj=eqdsk_file+'.pkl' #mapping stored in pkl file\n",
    "mu0=4.*np.pi*1.e-7\n",
    "R=eq.get('r')\n",
    "Z=eq.get('z')\n",
    "B,grad_psi,fRZ,RR,ZZ=eqdsk.getModB(eq)\n",
    "psi=eq.get('psizr').T\n",
    "curtor=[]\n",
    "area=[]\n",
    "\n",
    "\n",
    "#Parameters\n",
    "mapzmaxis=0.0\n",
    "ifrhopol=True #use root psipol mesh instead of psipol (eg for torlh)\n",
    "jac='straight' #'eqarc'\n",
    "\n",
    "# get flux surface on fine rectangular mesh\n",
    "newR=np.arange(min(R),max(R),0.01)\n",
    "newZ=np.arange(min(Z),max(Z),0.01)\n",
    "newZ=newZ-eq['zmaxis']  #axis needs to be at z=0 for mapping\n",
    "\n",
    "RR_finer,ZZ_finer=np.mgrid [min(R):max(R):200j, min(Z):max(Z):200j ] #200x200 2D coordinate meshes\n",
    "\n",
    "spline_psi = interpolate.RectBivariateSpline(R,Z,psi.T,bbox=[np.min(R),np.max(R),np.min(Z),np.max(Z)],kx=5,ky=5)\n",
    "psi_int=spline_psi.ev(RR_finer,ZZ_finer)\n",
    "psi_int_r=spline_psi.ev(RR_finer,ZZ_finer,dx=1)\n",
    "psi_int_z=spline_psi.ev(RR_finer,ZZ_finer,dy=1)\n",
    "grad_psi=np.sqrt(psi_int_z**2+psi_int_r**2)\n",
    "\n",
    "#check for save\n",
    "import pickle\n",
    "\n",
    "if True:\n",
    "  #generated mapped mesh size:\n",
    "  npsi=128\n",
    "  ntheta=128\n",
    "\n",
    "  #we will have eq_theta at each filtered_cx,cy\n",
    "  #like polar contour needed to be converted to regular mesh\n",
    "\n",
    "#get psi mesh for surfaces for theta within LCF\n",
    "#LCS is at psi=0\n",
    "#drop first point, magnetic axis. We add this one manually since it cannot\n",
    "#be contoured.\n",
    "\n",
    "  #psimesh=eq['fluxGrid'][1:] #poloidal flux grid, created by readGEQDSK from eqdsk but not in eqdsk file\n",
    "#resize psi to the number of desired psi levels, psimesh is already uniform\n",
    "#initial psimesh is [-psimin,0].\n",
    "#the following is only necessary if psimesh is not uniform which it should be for an eqdsk file.\n",
    "\n",
    "  nidx=100\n",
    "#reference psi\n",
    "  fity=np.linspace(eq['simag'],eq['sibry'],nidx)\n",
    "\n",
    "  if ifrhopol:\n",
    "    rhopol = np.linspace(np.sqrt(np.abs(eq['simag'])),np.sqrt(np.abs(eq['sibry'])),nidx)*np.sign(fity)\n",
    "    fity = rhopol**2*np.sign(fity) #reference psipol consistent with uniform rhopol\n",
    "    #rhopol is linear so just declare it\n",
    "    rhopol = np.linspace(0,1,npsi) \n",
    "    #rhopol = (rhopol-np.min(rhopol))/(np.max(rhopol)-np.min(rhopol)) #normalize\n",
    "    eq['rhopolmap']=rhopol  #sqrt norm rho pol for map size npsi, linear spaced\n",
    "\n",
    "  fitx = np.linspace(0,nidx,nidx)\n",
    "#get psimesh\n",
    "  fitxvals = np.linspace(0, nidx, npsi)\n",
    "  psimesh = np.interp(fitxvals, fitx, fity) #this just stretches fity to size of npsi\n",
    "\n",
    "  rmaxis = eq['rmaxis']\n",
    "  zmaxis = mapzmaxis #eq['zmaxis']\n",
    "  eq['psipolmap'] = psimesh\n",
    "\n",
    "  c_pprime = np.interp( psimesh, eq['fluxGrid'], eq['pprime'] )\n",
    "  c_ffprime = np.interp( psimesh, eq['fluxGrid'], eq['ffprim'] )\n",
    "\n",
    "#Extract contours and values for flux coordinate system.\n",
    "#contours go counter-clockwise, which we want\n",
    "#contours don't necessarily start at y=0., so rebase\n",
    "  fig = plt.figure()\n",
    "  ax = fig.add_subplot(111)\n",
    "  ax.set_aspect('equal')\n",
    "  fig.set_figheight(6)\n",
    "  psi_cs=plt.contour(RR_finer,ZZ_finer,psi_int,levels=psimesh)\n",
    "  #psi_cs=plt.contour(Rv,Zv,psi,levels=psimesh)\n",
    "\n",
    "#Get Psi contours, careful to exclude field coils\n",
    "  psixy=[]\n",
    "  for p in psi_cs.collections:\n",
    "      for pp in p.get_paths():\n",
    "        v = pp.vertices\n",
    "        x = v[:,0]\n",
    "        y = v[:,1]\n",
    "        if np.abs(np.average(y))<0.20*np.max(eq['z']): #only keep core plasma contours\n",
    "          psixy.append( (x,y) )\n",
    "\n",
    "#Define uniform theta mesh\n",
    "  uni_theta=np.linspace(0,2.0*np.pi,ntheta,endpoint=False)\n",
    "\n",
    "#Set up X(psi,theta) Y(psi,theta) and initialize with magnetic axis point\n",
    "  eq_x=[]\n",
    "  eq_y=[]\n",
    "\n",
    "  #is there any reason for two meshes here?\n",
    "  points = np.array( (RR_finer.flatten(), ZZ_finer.flatten()) ).T\n",
    "  #points = np.array( (Rv.flatten(), Zv.flatten()) ).T\n",
    "  gpsivalues = grad_psi.flatten()\n",
    "  Bpoints = np.array( (RR.flatten(), ZZ.flatten()) ).T\n",
    "  Bvalues   = B.flatten()\n",
    "\n",
    "  from scipy.interpolate import griddata\n",
    "  #print('points',points.shape,gpsivalues.shape)\n",
    "  c_idx=-1\n",
    "  minmodes = 8\n",
    "  maxmodes = 20\n",
    "  for cx,cy in psixy:\n",
    "      c_idx+=1\n",
    "      print('cx',c_idx, len(cx),len(psixy)) #just to see progress\n",
    "      #for each surface, low pass filter to central 8+ DC Fourier modes\n",
    "      #remove last element for fft since it is equal to the first element\n",
    "      #size of (cx,cy) is  variable\n",
    "\n",
    "      #shift to midplane as first element\n",
    "      idx=find_cut(cx,cy,rmaxis,zmaxis)\n",
    "      if (idx>=0):\n",
    "          #now project to centers\n",
    "          #this assumes that values stradle midplane which seems to be the \n",
    "          #case for python contour, but should be made more robust.\n",
    "          cx=0.5*(np.roll(cx,-idx)+np.roll(cx,-idx+1))\n",
    "          cy=0.5*(np.roll(cy,-idx)+np.roll(cy,-idx+1))\n",
    "\n",
    "      #print('0',cy[0],cy[-1],cx[0],cx[-1],np.average(cy))\n",
    "\n",
    "      #filter out high freq noise, esp needed near axis\n",
    "      nmodes=max( minmodes,int(len(cx)/np.float(maxmodes) ))\n",
    "      fftx=sft.fft(cx)\n",
    "      fftx[int(nmodes/2)+1:-int(nmodes/2)]=0\n",
    "      filtered_cx=sft.ifft(fftx).real\n",
    "        \n",
    "      ffty=sft.fft(cy)\n",
    "      ffty[int(nmodes/2)+1:-int(nmodes/2)]=0\n",
    "      \n",
    "      #restore value for idx=0 for Y. \n",
    "      ffttotal=np.sum(ffty) #want to restore to total before filter.\n",
    "      ffty[int(nmodes/2)+1]=-ffttotal/2.\n",
    "      ffty[-int(nmodes/2)-1]=-ffttotal/2.\n",
    "\n",
    "      filtered_cy=sft.ifft(ffty).real\n",
    "\n",
    "    #interpolate |grad psi| and B onto this surface\n",
    "    #this significantly slows down this routine. I think this can be moved outside of the \n",
    "    #loop if cx,cy are saved.\n",
    "\n",
    "      print('1',filtered_cy[1],filtered_cy[0],filtered_cy[-1],filtered_cx[0])\n",
    "\n",
    "      c_gradpsi = griddata( points, gpsivalues, (filtered_cx,filtered_cy), method='cubic' )\n",
    "      c_B       = griddata( Bpoints,    Bvalues, (filtered_cx,filtered_cy), method='cubic' )\n",
    "\n",
    "    #derivative from fft needs factor of 2pi\n",
    "      df_dx=sft.diff(filtered_cx)*np.pi*2.0/len(filtered_cx)\n",
    "      df_dy=sft.diff(filtered_cy)*np.pi*2.0/len(filtered_cy)\n",
    "      dl=np.sqrt(df_dx**2+df_dy**2) #These two steps could be done with FFT too.\n",
    "\n",
    "      #flux surface integrals here\n",
    "      c_curtor = -integrate.simps(\n",
    "          dl*filtered_cx/c_gradpsi * ( c_pprime[c_idx] + c_ffprime[c_idx]/filtered_cx**2/mu0 ) \n",
    "      )\n",
    "      c_area = integrate.simps(\n",
    "          dl/c_gradpsi\n",
    "      )\n",
    "\n",
    "      #if straight field line, multiply dl by 1/R*|gradpsi|\n",
    "      if jac=='straight':\n",
    "        dtheta=dl/np.abs(c_gradpsi*filtered_cx)\n",
    "      else: #jac='eqarc'\n",
    "        dtheta=dl\n",
    "      L=integrate.cumtrapz(dtheta,initial=0)/len(dtheta) \n",
    "      \n",
    "      #now put each on same theta mesh, Jacobian selection\n",
    "      this_theta=L/np.max(L)*2.0*np.pi\n",
    "      t_map=interpolate.interp1d(this_theta,filtered_cx,kind='cubic')\n",
    "      eq_x.append(t_map(uni_theta))\n",
    "      t_map=interpolate.interp1d(this_theta,filtered_cy,kind='cubic')\n",
    "      eq_y.append(t_map(uni_theta))\n",
    "      curtor.append (c_curtor)\n",
    "      area.append( c_area )\n",
    "\n",
    "  #add origin term\n",
    "  area.insert(0,0.)          #area of origin is 0. \n",
    "  curtor.insert(0,curtor[0]) #current density maximum at origin\n",
    "  curtor=np.array(curtor)\n",
    "  area=np.array(area)\n",
    "  Xmap=np.real(np.vstack(eq_x))\n",
    "  Zmap=np.real(np.vstack(eq_y))\n",
    "  eq['darea_dpsi']=area\n",
    "  eq['dI_dpsi']=curtor\n",
    "  \n",
    "  #update npsi to # of actual contour surfaces\n",
    "  npsi=len(psixy)+1\n",
    "  #add origin\n",
    "  NXmap=np.zeros([npsi,ntheta])\n",
    "  NZmap=np.zeros([npsi,ntheta])\n",
    "  NXmap[0,:]=eq['rmaxis'] #origin for all theta\n",
    "  NZmap[0,:]=mapzmaxis #eq['zmaxis']\n",
    "  NXmap[1:,:]=Xmap\n",
    "  NZmap[1:,:]=Zmap\n",
    "\n",
    "  #print(\"Error of axis is\",100.*np.average(np.abs(Zmap[0,:]-mapzmaxis))/mapzmaxis )\n",
    "\n",
    "  del(Xmap)\n",
    "  del(Zmap)\n",
    "  Xmap=NXmap\n",
    "  Zmap=NZmap\n",
    "\n",
    "  #smooth radial dependence with lowpass filter #this seems to introduce wiggles to theta lines\n",
    "#  for ith in range(Zmap.shape[1]):\n",
    "#    theZ=Zmap[:,ith]\n",
    "#    theX=Xmap[:,ith]#\n",
    "\n",
    "#    smoothZ = butter_lowpass_filtfilt(theZ,6,npsi)\n",
    "#    smoothX = butter_lowpass_filtfilt(theX,6,npsi)\n",
    "#    Zmap[:,ith]=smoothZ\n",
    "#    Xmap[:,ith]=smoothX\n",
    "  \n",
    "  print('shapes of mapped arrays: ',Xmap.shape,Zmap.shape)\n",
    "  #save this in pickle file\n",
    "  eq['xmap']=Xmap\n",
    "  eq['zmap']=Zmap\n",
    "  \n",
    "\n",
    "  import pickle  \n",
    "  with open(eqfileobj, \"wb\")  as file_pi:\n",
    "    pickle.dump([Xmap,Zmap,psixy,curtor,eq], file_pi);\n",
    "\n",
    "else:\n",
    "    try:\n",
    "      Xmap,Zmap,psixy,curtor,eq = pickle.load(f)\n",
    "      print('loaded previous mapping')\n",
    "    finally:\n",
    "        f.close()\n"
   ]
  },
  {
   "cell_type": "code",
   "execution_count": null,
   "id": "c49fc816",
   "metadata": {
    "hidden": true
   },
   "outputs": [],
   "source": [
    "eq.keys()"
   ]
  },
  {
   "cell_type": "code",
   "execution_count": null,
   "id": "3a05215c",
   "metadata": {
    "hidden": true
   },
   "outputs": [],
   "source": [
    "#Plot coordinate mesh\n",
    "\n",
    "fig = plt.figure()\n",
    "ax = fig.add_subplot(111)\n",
    "ax.set_aspect('equal')\n",
    "fig.set_figheight(20)\n",
    "\n",
    "#Theta lines\n",
    "for i in np.arange(0,len(Xmap[0,:]),5):\n",
    "    plt.plot(Xmap[:,i],Zmap[:,i])\n",
    "    \n",
    "#Psi surface   \n",
    "for i in np.arange(0,len(Xmap[:,0]),10):\n",
    "    plt.plot(Xmap[i,:],Zmap[i,:])\n",
    "plt.plot(Xmap[-1,:],Zmap[-1,:]);\n",
    "\n",
    "plt.title('Surfaces of constant theta and psi (every 10th)');"
   ]
  },
  {
   "cell_type": "code",
   "execution_count": null,
   "id": "b413bec1",
   "metadata": {
    "hidden": true
   },
   "outputs": [],
   "source": [
    "Xmap.shape, Zmap.shape"
   ]
  },
  {
   "cell_type": "code",
   "execution_count": null,
   "id": "61a35a24",
   "metadata": {
    "hidden": true
   },
   "outputs": [],
   "source": [
    "!ls *.pkl"
   ]
  },
  {
   "cell_type": "code",
   "execution_count": null,
   "id": "33ccbccb",
   "metadata": {
    "hidden": true
   },
   "outputs": [],
   "source": []
  }
 ],
 "metadata": {
  "kernelspec": {
   "display_name": "Python 3",
   "language": "python",
   "name": "python3"
  },
  "language_info": {
   "codemirror_mode": {
    "name": "ipython",
    "version": 3
   },
   "file_extension": ".py",
   "mimetype": "text/x-python",
   "name": "python",
   "nbconvert_exporter": "python",
   "pygments_lexer": "ipython3",
   "version": "3.6.3"
  }
 },
 "nbformat": 4,
 "nbformat_minor": 5
}
